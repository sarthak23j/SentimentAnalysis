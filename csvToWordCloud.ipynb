{
  "cells": [
    {
      "cell_type": "code",
      "execution_count": null,
      "metadata": {
        "id": "jNsI5qAkzVng"
      },
      "outputs": [],
      "source": [
        "import warnings\n",
        "warnings.filterwarnings('ignore')\n",
        "import pandas as pd\n",
        "import re\n",
        "import seaborn as sns\n",
        "from sklearn.feature_extraction.text import TfidfVectorizer\n",
        "import matplotlib.pyplot as plt\n",
        "from wordcloud import WordCloud"
      ]
    },
    {
      "cell_type": "code",
      "execution_count": null,
      "metadata": {
        "colab": {
          "base_uri": "https://localhost:8080/"
        },
        "id": "lMI27Bq_zkEs",
        "outputId": "5414d246-1ab1-47d4-b183-c73df2f5e1df"
      },
      "outputs": [],
      "source": [
        "import nltk\n",
        "nltk.download('stopwords')\n",
        "nltk.download('punkt_tab')\n",
        "from nltk.corpus import stopwords"
      ]
    },
    {
      "cell_type": "code",
      "execution_count": null,
      "metadata": {
        "colab": {
          "base_uri": "https://localhost:8080/",
          "height": 206
        },
        "id": "F4zZJJyvzlGG",
        "outputId": "5a83696d-0880-4e56-b870-c3c155007149"
      },
      "outputs": [],
      "source": [
        "# data = pd.read_csv('flipkart_data.csv')\n",
        "data = pd.read_csv('flipkart_data.csv')\n",
        "data.head()"
      ]
    },
    {
      "cell_type": "code",
      "execution_count": null,
      "metadata": {
        "colab": {
          "base_uri": "https://localhost:8080/"
        },
        "id": "cBqFEd5szn_x",
        "outputId": "b8bccbf5-1b70-4f3c-f50b-8acfd26aa5ef"
      },
      "outputs": [],
      "source": [
        "# unique ratings\n",
        "pd.unique(data['rating'])"
      ]
    },
    {
      "cell_type": "code",
      "execution_count": null,
      "metadata": {
        "colab": {
          "base_uri": "https://localhost:8080/",
          "height": 471
        },
        "id": "KFSnKRHlzo6O",
        "outputId": "2e898216-673a-4c2a-86a3-1fb19fe78b07"
      },
      "outputs": [],
      "source": [
        "sns.countplot(data=data,\n",
        "\t\t\tx='rating',\n",
        "\t\t\torder=data.rating.value_counts().index)"
      ]
    },
    {
      "cell_type": "code",
      "execution_count": null,
      "metadata": {
        "id": "lPo0AYamzqJ2"
      },
      "outputs": [],
      "source": [
        "# rating label(final)\n",
        "pos_neg = []\n",
        "for i in range(len(data['rating'])):\n",
        "\tif data['rating'][i] >= 5:\n",
        "\t\tpos_neg.append(1)\n",
        "\telse:\n",
        "\t\tpos_neg.append(0)\n",
        "\n",
        "data['label'] = pos_neg"
      ]
    },
    {
      "cell_type": "code",
      "execution_count": null,
      "metadata": {
        "colab": {
          "base_uri": "https://localhost:8080/"
        },
        "id": "7UnNpiXnzrwG",
        "outputId": "92605781-7c00-47c8-f592-3f7b31a1b38d"
      },
      "outputs": [],
      "source": [
        "nltk.download('punkt')\n",
        "from tqdm import tqdm\n",
        "\n",
        "def preprocess_text(text_data): \n",
        "    preprocessed_text = [] \n",
        "\n",
        "    for sentence in tqdm(text_data): \n",
        "        # Removing punctuations \n",
        "        sentence = re.sub(r'[^\\w\\s]', '', sentence) \n",
        "\n",
        "        # Converting lowercase and removing stopwords \n",
        "        preprocessed_text.append(' '.join(token.lower() \n",
        "                                        for token in nltk.word_tokenize(sentence) \n",
        "                                        if token.lower() not in stopwords.words('english'))) \n",
        "\n",
        "    return preprocessed_text"
      ]
    },
    {
      "cell_type": "code",
      "execution_count": null,
      "metadata": {
        "colab": {
          "base_uri": "https://localhost:8080/"
        },
        "id": "EXdKiMj5ztNE",
        "outputId": "01ad92ec-70d1-46b0-84e8-6d30bfe03f54"
      },
      "outputs": [],
      "source": [
        "preprocessed_review = preprocess_text(data['review'].values)\n",
        "data['review'] = preprocessed_review"
      ]
    },
    {
      "cell_type": "code",
      "execution_count": null,
      "metadata": {
        "colab": {
          "base_uri": "https://localhost:8080/",
          "height": 206
        },
        "id": "EtuzgTL3zuRa",
        "outputId": "d00f466f-54e0-4b09-d74f-e7e50942118e"
      },
      "outputs": [],
      "source": [
        "data.head()"
      ]
    },
    {
      "cell_type": "code",
      "execution_count": null,
      "metadata": {
        "colab": {
          "base_uri": "https://localhost:8080/",
          "height": 178
        },
        "id": "_SPE2Y75zvX3",
        "outputId": "dba12f96-4ff0-42f7-fae8-bdd4b7a97cb3"
      },
      "outputs": [],
      "source": [
        "data[\"label\"].value_counts()"
      ]
    },
    {
      "cell_type": "code",
      "execution_count": null,
      "metadata": {
        "colab": {
          "base_uri": "https://localhost:8080/",
          "height": 337
        },
        "id": "y_-8NNCszwl4",
        "outputId": "6843cf90-bc36-4653-b046-9b4e1032bcdc"
      },
      "outputs": [],
      "source": [
        "consolidated = ' '.join(\n",
        "\tword for word in data['review'][data['label'] == 1].astype(str))\n",
        "wordCloud = WordCloud(width=1600, height=800,\n",
        "\t\t\t\t\trandom_state=21, max_font_size=110)\n",
        "plt.figure(figsize=(15, 10))\n",
        "plt.imshow(wordCloud.generate(consolidated), interpolation='bilinear')\n",
        "plt.axis('off')\n",
        "plt.show()"
      ]
    },
    {
      "cell_type": "code",
      "execution_count": null,
      "metadata": {
        "id": "M81DOgahzz3o"
      },
      "outputs": [],
      "source": [
        "cv = TfidfVectorizer(max_features=2500)\n",
        "X = cv.fit_transform(data['review'] ).toarray()"
      ]
    },
    {
      "cell_type": "code",
      "execution_count": null,
      "metadata": {
        "colab": {
          "base_uri": "https://localhost:8080/"
        },
        "id": "ZkfkgMKxz1nj",
        "outputId": "ff9b032a-f557-4ec2-e75f-8f57a8c72d8c"
      },
      "outputs": [],
      "source": [
        "X"
      ]
    },
    {
      "cell_type": "code",
      "execution_count": null,
      "metadata": {
        "id": "yYEdtxScz2p0"
      },
      "outputs": [],
      "source": [
        "from sklearn.model_selection import train_test_split\n",
        "X_train, X_test, y_train, y_test = train_test_split(X, data['label'],\n",
        "\t\t\t\t\t\t\t\t\t\t\t\t\ttest_size=0.33,\n",
        "\t\t\t\t\t\t\t\t\t\t\t\t\tstratify=data['label'],\n",
        "\t\t\t\t\t\t\t\t\t\t\t\t\trandom_state = 42)"
      ]
    },
    {
      "cell_type": "code",
      "execution_count": null,
      "metadata": {
        "colab": {
          "base_uri": "https://localhost:8080/"
        },
        "id": "kVaYhuNPz3yl",
        "outputId": "33e41379-cc60-4e8b-8967-2dc99ed369c7"
      },
      "outputs": [],
      "source": [
        "from sklearn.tree import DecisionTreeClassifier\n",
        "from sklearn.metrics import accuracy_score\n",
        "\n",
        "model = DecisionTreeClassifier(random_state=0)\n",
        "model.fit(X_train,y_train)\n",
        "\n",
        "#testing the model\n",
        "pred = model.predict(X_train)\n",
        "print(accuracy_score(y_train,pred))"
      ]
    },
    {
      "cell_type": "code",
      "execution_count": null,
      "metadata": {
        "colab": {
          "base_uri": "https://localhost:8080/",
          "height": 449
        },
        "id": "vi0ylrCFz49V",
        "outputId": "9a033673-da26-4a34-ae14-fc947d7a183f"
      },
      "outputs": [],
      "source": [
        "from sklearn import metrics\n",
        "from sklearn.metrics import confusion_matrix\n",
        "cm = confusion_matrix(y_train,pred)\n",
        "\n",
        "cm_display = metrics.ConfusionMatrixDisplay(confusion_matrix = cm,\n",
        "\t\t\t\t\t\t\t\t\t\t\tdisplay_labels = [False, True])\n",
        "\n",
        "cm_display.plot()\n",
        "plt.show()"
      ]
    }
  ],
  "metadata": {
    "colab": {
      "provenance": []
    },
    "kernelspec": {
      "display_name": "Python 3",
      "name": "python3"
    },
    "language_info": {
      "codemirror_mode": {
        "name": "ipython",
        "version": 3
      },
      "file_extension": ".py",
      "mimetype": "text/x-python",
      "name": "python",
      "nbconvert_exporter": "python",
      "pygments_lexer": "ipython3",
      "version": "3.12.3"
    }
  },
  "nbformat": 4,
  "nbformat_minor": 0
}
